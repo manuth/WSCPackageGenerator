{
 "cells": [
  {
   "cell_type": "markdown",
   "metadata": {},
   "source": [
    "# Morphing using `ts-morph`"
   ]
  },
  {
   "cell_type": "markdown",
   "metadata": {},
   "source": [
    "## Creating `ObjectLiteralExpression`s"
   ]
  },
  {
   "cell_type": "code",
   "execution_count": 1,
   "metadata": {
    "dotnet_interactive": {
     "language": "csharp"
    }
   },
   "outputs": [
    {
     "name": "stdout",
     "output_type": "stream",
     "text": [
      "let tmp = {\n",
      "    Application: \"wcf\"\n",
      "};\n",
      "\n"
     ]
    }
   ],
   "source": [
    "import { printNode, Project, StructureKind, SyntaxKind, ts, VariableDeclarationKind } from \"ts-morph\";\r\n",
    "import { TempFileSystem } from \"@manuth/temp-files\";\r\n",
    "\r\n",
    "let varname = \"tmp\";\r\n",
    "let file = new Project().createSourceFile(TempFileSystem.TempName());\r\n",
    "\r\n",
    "file.addVariableStatement(\r\n",
    "    {\r\n",
    "        declarationKind: VariableDeclarationKind.Let,\r\n",
    "        declarations: [\r\n",
    "            {\r\n",
    "                name: varname,\r\n",
    "                initializer: printNode(ts.factory.createObjectLiteralExpression())\r\n",
    "            }\r\n",
    "        ]\r\n",
    "    });\r\n",
    "\r\n",
    "let options = file.getVariableDeclaration(varname).getInitializerIfKindOrThrow(SyntaxKind.ObjectLiteralExpression);\r\n",
    "\r\n",
    "options.addPropertyAssignment(\r\n",
    "    {\r\n",
    "        name: \"Application\",\r\n",
    "        initializer: JSON.stringify(\"wcf\")\r\n",
    "    });\r\n",
    "\r\n",
    "console.log(file.getFullText());"
   ]
  },
  {
   "cell_type": "markdown",
   "metadata": {},
   "source": [
    "## Creating `CallExpression`s"
   ]
  },
  {
   "cell_type": "code",
   "execution_count": 16,
   "metadata": {},
   "outputs": [
    {
     "name": "stdout",
     "output_type": "stream",
     "text": [
      "join(\"..\", \"..\")\n"
     ]
    }
   ],
   "source": [
    "import { printNode, Project, StructureKind, SyntaxKind, ts, VariableDeclarationKind } from \"ts-morph\";\r\n",
    "import { TempFileSystem } from \"@manuth/temp-files\";\r\n",
    "\r\n",
    "let varname = \"tmp\";\r\n",
    "let file = new Project().createSourceFile(TempFileSystem.TempName());\r\n",
    "file.replaceWithText(printNode(ts.factory.createCallExpression(ts.factory.createIdentifier(\"join\"), [], [])));\r\n",
    "let call = file.getStatementByKindOrThrow(SyntaxKind.ExpressionStatement).getExpressionIfKindOrThrow(SyntaxKind.CallExpression);\r\n",
    "call.addArgument(printNode(ts.factory.createStringLiteral(\"..\")));\r\n",
    "call.addArgument(printNode(ts.factory.createStringLiteral(\"..\")));\r\n",
    "console.log(file.getFullText());"
   ]
  },
  {
   "cell_type": "markdown",
   "metadata": {},
   "source": [
    "## Creating Anonymous Functions"
   ]
  },
  {
   "cell_type": "code",
   "execution_count": 7,
   "metadata": {},
   "outputs": [
    {
     "name": "stdout",
     "output_type": "stream",
     "text": [
      "(\n",
      "    \"hello\"\n",
      ")\n",
      "\n"
     ]
    }
   ],
   "source": [
    "import { EOL } from \"os\";\r\n",
    "import { printNode, Project, StructureKind, SyntaxKind, ts, VariableDeclarationKind } from \"ts-morph\";\r\n",
    "import { TempFileSystem } from \"@manuth/temp-files\";\r\n",
    "\r\n",
    "let file = new Project().createSourceFile(TempFileSystem.TempName());\r\n",
    "file.addStatements(\r\n",
    "    [\r\n",
    "        `(${EOL}\"hello\"${EOL})`\r\n",
    "    ]);\r\n",
    "\r\n",
    "file.formatText();\r\n",
    "console.log(file.getFullText());\r\n"
   ]
  },
  {
   "cell_type": "markdown",
   "metadata": {},
   "source": [
    "## Getting Module-components"
   ]
  },
  {
   "cell_type": "code",
   "execution_count": 36,
   "metadata": {},
   "outputs": [
    {
     "name": "stdout",
     "output_type": "stream",
     "text": [
      "[\n",
      "  'c:/Users/Manuel/Documents/GitHub/WSCPackageGenerator/node_modules/@manuth/woltlab-compiler/lib/PackageSystem/Package.d.ts',\n",
      "  'c:/Users/Manuel/Documents/GitHub/WSCPackageGenerator/node_modules/@manuth/woltlab-compiler/lib/PackageSystem/Instructions/UpdateInstructionSet.d.ts',\n",
      "  'c:/Users/Manuel/Documents/GitHub/WSCPackageGenerator/node_modules/@manuth/woltlab-compiler/lib/PackageSystem/Instructions/InstructionSet.d.ts',\n",
      "  'c:/Users/Manuel/Documents/GitHub/WSCPackageGenerator/node_modules/@manuth/woltlab-compiler/lib/Compilation/PackageSystem/PackageCompiler.d.ts',\n",
      "  'c:/Users/Manuel/Documents/GitHub/WSCPackageGenerator/node_modules/@manuth/woltlab-compiler/lib/Compilation/PackageSystem/PackageFileCompiler.d.ts',\n",
      "  'c:/Users/Manuel/Documents/GitHub/WSCPackageGenerator/node_modules/@manuth/woltlab-compiler/lib/index.d.ts',\n",
      "  'c:/Users/Manuel/Documents/GitHub/WSCPackageGenerator/src/WoltLabGenerator.ts',\n",
      "  'c:/Users/Manuel/Documents/GitHub/WSCPackageGenerator/src/generators/package/FileMappings/EntryPointFileMapping.ts',\n",
      "  'c:/Users/Manuel/Documents/GitHub/WSCPackageGenerator/src/generators/package/FileMappings/WoltLabPackageFileMapping.ts'\n",
      "]\n",
      "[\n",
      "  'c:/Users/Manuel/Documents/GitHub/WSCPackageGenerator/tmp-28108-17Ip1l',\n",
      "  'c:/Users/Manuel/Documents/GitHub/WSCPackageGenerator/src/WoltLabGenerator.ts',\n",
      "  'c:/Users/Manuel/Documents/GitHub/WSCPackageGenerator/src/Components/FileInstructionComponent.ts',\n",
      "  'c:/Users/Manuel/Documents/GitHub/WSCPackageGenerator/src/Components/FileUploadComponentBase.ts',\n",
      "  'c:/Users/Manuel/Documents/GitHub/WSCPackageGenerator/src/Components/InstructionComponent.ts',\n",
      "  'c:/Users/Manuel/Documents/GitHub/WSCPackageGenerator/src/Components/ListenerComponentBase.ts',\n",
      "  'c:/Users/Manuel/Documents/GitHub/WSCPackageGenerator/src/Components/LocalInstructionComponent.ts',\n",
      "  'c:/Users/Manuel/Documents/GitHub/WSCPackageGenerator/src/Components/NodeSystemComponent.ts',\n",
      "  'c:/Users/Manuel/Documents/GitHub/WSCPackageGenerator/src/Components/WoltLabComponent.ts',\n",
      "  'c:/Users/Manuel/Documents/GitHub/WSCPackageGenerator/src/Core/Constants.ts',\n",
      "  'c:/Users/Manuel/Documents/GitHub/WSCPackageGenerator/src/FileMappings/FileInstructionMapping.ts',\n",
      "  'c:/Users/Manuel/Documents/GitHub/WSCPackageGenerator/src/FileMappings/FileUploadMapping.ts',\n",
      "  'c:/Users/Manuel/Documents/GitHub/WSCPackageGenerator/src/FileMappings/InstructionFileMapping.ts',\n",
      "  'c:/Users/Manuel/Documents/GitHub/WSCPackageGenerator/src/FileMappings/ListenerInstructionFileMapping.ts',\n",
      "  'c:/Users/Manuel/Documents/GitHub/WSCPackageGenerator/src/FileMappings/LocalFileInstructionMapping.ts',\n",
      "  'c:/Users/Manuel/Documents/GitHub/WSCPackageGenerator/src/FileMappings/NodeInstructionFileMapping.ts',\n",
      "  'c:/Users/Manuel/Documents/GitHub/WSCPackageGenerator/src/FileMappings/PackageInstructionTransformer.ts',\n",
      "  'c:/Users/Manuel/Documents/GitHub/WSCPackageGenerator/src/Settings/IFileUploadComponentOptions.ts',\n",
      "  'c:/Users/Manuel/Documents/GitHub/WSCPackageGenerator/src/Settings/ILocalComponentOptions.ts',\n",
      "  'c:/Users/Manuel/Documents/GitHub/WSCPackageGenerator/src/Settings/IWoltLabComponentOptionCollection.ts',\n",
      "  'c:/Users/Manuel/Documents/GitHub/WSCPackageGenerator/src/Settings/IWoltLabComponentOptions.ts',\n",
      "  'c:/Users/Manuel/Documents/GitHub/WSCPackageGenerator/src/Settings/IWoltLabSettings.ts',\n",
      "  'c:/Users/Manuel/Documents/GitHub/WSCPackageGenerator/src/Settings/WoltLabComponentKey.ts',\n",
      "  'c:/Users/Manuel/Documents/GitHub/WSCPackageGenerator/src/Settings/WoltLabComponentType.ts',\n",
      "  'c:/Users/Manuel/Documents/GitHub/WSCPackageGenerator/src/Settings/WoltLabSettingKey.ts',\n",
      "  'c:/Users/Manuel/Documents/GitHub/WSCPackageGenerator/src/Components/Inquiry/WoltLabIdentifierQuestion.ts',\n",
      "  'c:/Users/Manuel/Documents/GitHub/WSCPackageGenerator/src/generators/app/index.ts',\n",
      "  'c:/Users/Manuel/Documents/GitHub/WSCPackageGenerator/src/generators/app/WoltLabPackageGenerator.ts',\n",
      "  'c:/Users/Manuel/Documents/GitHub/WSCPackageGenerator/node_modules/@manuth/woltlab-compiler/lib/index.d.ts',\n",
      "  'c:/Users/Manuel/Documents/GitHub/WSCPackageGenerator/src/Components/Inquiry/Prompts/ApplicationPrompt.ts',\n",
      "  'c:/Users/Manuel/Documents/GitHub/WSCPackageGenerator/src/Components/Inquiry/Prompts/IApplicationAnswerHash.ts',\n",
      "  'c:/Users/Manuel/Documents/GitHub/WSCPackageGenerator/src/Components/Inquiry/Prompts/IApplicationQuestion.ts',\n",
      "  'c:/Users/Manuel/Documents/GitHub/WSCPackageGenerator/src/Components/Inquiry/Prompts/IApplicationQuestionOptions.ts',\n",
      "  'c:/Users/Manuel/Documents/GitHub/WSCPackageGenerator/src/Components/Inquiry/Prompts/IPathPromptRootDescriptor.ts',\n",
      "  'c:/Users/Manuel/Documents/GitHub/WSCPackageGenerator/src/Components/Inquiry/Prompts/IPathQuestion.ts',\n",
      "  'c:/Users/Manuel/Documents/GitHub/WSCPackageGenerator/src/Components/Inquiry/Prompts/IPathQuestionOptions.ts',\n",
      "  'c:/Users/Manuel/Documents/GitHub/WSCPackageGenerator/src/Components/Inquiry/Prompts/IQuestionCollectionQuestion.ts',\n",
      "  'c:/Users/Manuel/Documents/GitHub/WSCPackageGenerator/src/Components/Inquiry/Prompts/IQuestionCollectionQuestionOptions.ts',\n",
      "  'c:/Users/Manuel/Documents/GitHub/WSCPackageGenerator/src/Components/Inquiry/Prompts/IWoltLabApplication.ts',\n",
      "  'c:/Users/Manuel/Documents/GitHub/WSCPackageGenerator/src/Components/Inquiry/Prompts/NestedPrompt.ts',\n",
      "  'c:/Users/Manuel/Documents/GitHub/WSCPackageGenerator/src/Components/Inquiry/Prompts/PathPrompt.ts',\n",
      "  'c:/Users/Manuel/Documents/GitHub/WSCPackageGenerator/src/Components/Inquiry/Prompts/QuestionCollectionPrompt.ts',\n",
      "  'c:/Users/Manuel/Documents/GitHub/WSCPackageGenerator/src/generators/package/Components/ACPTemplateComponent.ts',\n",
      "  'c:/Users/Manuel/Documents/GitHub/WSCPackageGenerator/src/generators/package/Components/BBCodeComponent.ts',\n",
      "  'c:/Users/Manuel/Documents/GitHub/WSCPackageGenerator/src/generators/package/Components/CronJobComponent.ts',\n",
      "  'c:/Users/Manuel/Documents/GitHub/WSCPackageGenerator/src/generators/package/Components/EmojiComponent.ts',\n",
      "  'c:/Users/Manuel/Documents/GitHub/WSCPackageGenerator/src/generators/package/Components/ErrorMessageComponent.ts',\n",
      "  'c:/Users/Manuel/Documents/GitHub/WSCPackageGenerator/src/generators/package/Components/EventListenerComponent.ts',\n",
      "  'c:/Users/Manuel/Documents/GitHub/WSCPackageGenerator/src/generators/package/Components/FileUploadComponent.ts',\n",
      "  'c:/Users/Manuel/Documents/GitHub/WSCPackageGenerator/src/generators/package/Components/GroupOptionComponent.ts',\n",
      "  'c:/Users/Manuel/Documents/GitHub/WSCPackageGenerator/src/generators/package/Components/OptionComponent.ts',\n",
      "  'c:/Users/Manuel/Documents/GitHub/WSCPackageGenerator/src/generators/package/Components/PHPScriptComponent.ts',\n",
      "  'c:/Users/Manuel/Documents/GitHub/WSCPackageGenerator/src/generators/package/Components/SQLScriptComponent.ts',\n",
      "  'c:/Users/Manuel/Documents/GitHub/WSCPackageGenerator/src/generators/package/Components/TemplateComponent.ts',\n",
      "  'c:/Users/Manuel/Documents/GitHub/WSCPackageGenerator/src/generators/package/Components/TemplateListenerComponent.ts',\n",
      "  'c:/Users/Manuel/Documents/GitHub/WSCPackageGenerator/src/generators/package/Components/TranslationComponent.ts',\n",
      "  'c:/Users/Manuel/Documents/GitHub/WSCPackageGenerator/src/generators/package/Components/UserOptionComponent.ts',\n",
      "  'c:/Users/Manuel/Documents/GitHub/WSCPackageGenerator/src/generators/package/FileMappings/BBCodeInstructionFileMapping.ts',\n",
      "  'c:/Users/Manuel/Documents/GitHub/WSCPackageGenerator/src/generators/package/FileMappings/CronJobInstructionFileMapping.ts',\n",
      "  'c:/Users/Manuel/Documents/GitHub/WSCPackageGenerator/src/generators/package/FileMappings/EmojiInstructionFileMapping.ts',\n",
      "  'c:/Users/Manuel/Documents/GitHub/WSCPackageGenerator/src/generators/package/FileMappings/EntryPointFileMapping.ts',\n",
      "  'c:/Users/Manuel/Documents/GitHub/WSCPackageGenerator/src/generators/package/FileMappings/PHPInstructionFileMapping.ts',\n",
      "  'c:/Users/Manuel/Documents/GitHub/WSCPackageGenerator/src/generators/package/FileMappings/SelfContainedPHPFileMapping.ts',\n",
      "  'c:/Users/Manuel/Documents/GitHub/WSCPackageGenerator/src/generators/package/FileMappings/WoltLabNodePackageFileMapping.ts',\n",
      "  'c:/Users/Manuel/Documents/GitHub/WSCPackageGenerator/src/generators/package/FileMappings/WoltLabPackageFileMapping.ts',\n",
      "  'c:/Users/Manuel/Documents/GitHub/WSCPackageGenerator/src/generators/package/Settings/IPackageComponentOptionCollection.ts',\n",
      "  'c:/Users/Manuel/Documents/GitHub/WSCPackageGenerator/src/generators/package/Settings/IPHPScriptComponentOptions.ts',\n",
      "  'c:/Users/Manuel/Documents/GitHub/WSCPackageGenerator/src/generators/package/Settings/PackageComponentType.ts'\n",
      "]\n"
     ]
    }
   ],
   "source": [
    "import { join } from \"path\";\r\n",
    "import { Project, SyntaxKind, ts } from \"ts-morph\";\r\n",
    "import { TempFileSystem } from \"@manuth/temp-files\";\r\n",
    "\r\n",
    "let project = new Project(\r\n",
    "    {\r\n",
    "        tsConfigFilePath: join(process.cwd(), \"tsconfig.json\")\r\n",
    "    });\r\n",
    "\r\n",
    "let file = project.createSourceFile(TempFileSystem.TempBaseName());\r\n",
    "\r\n",
    "let importExpression = file.addImportDeclaration(\r\n",
    "    {\r\n",
    "        moduleSpecifier: \"@manuth/package-json-editor\",\r\n",
    "        namedImports: [\r\n",
    "            {\r\n",
    "                name: \"Package\"\r\n",
    "            }\r\n",
    "        ]\r\n",
    "    });\r\n",
    "\r\n",
    "let compilerFileName = ts.resolveModuleName(\"@manuth/woltlab-compiler\", file.getFilePath(), project.getCompilerOptions(), project.getModuleResolutionHost()).resolvedModule.resolvedFileName;\r\n",
    "let compilerFile = project.addSourceFileAtPath(compilerFileName);\r\n",
    "let packageClass = compilerFile.getExportedDeclarations().get(\"Package\")[0].asKindOrThrow(SyntaxKind.ClassDeclaration);\r\n",
    "console.log(packageClass.findReferences().map((referencedSymbol) => referencedSymbol.getDefinition().getSourceFile().getFilePath()));\r\n",
    "console.log(project.getSourceFiles().map((file) => file.getFilePath()));\r\n"
   ]
  }
 ],
 "metadata": {
  "kernelspec": {
   "display_name": "TypeScript",
   "language": "typescript",
   "name": "tslab"
  },
  "language_info": {
   "codemirror_mode": {
    "mode": "typescript",
    "name": "javascript",
    "typescript": true
   },
   "file_extension": ".ts",
   "mimetype": "text/typescript",
   "name": "typescript",
   "version": "3.7.2"
  },
  "orig_nbformat": 4
 },
 "nbformat": 4,
 "nbformat_minor": 2
}