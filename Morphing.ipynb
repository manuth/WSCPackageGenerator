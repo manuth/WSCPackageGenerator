{
 "cells": [
  {
   "cell_type": "markdown",
   "metadata": {},
   "source": [
    "# Morphing using `ts-morph`"
   ]
  },
  {
   "cell_type": "markdown",
   "metadata": {},
   "source": [
    "## Creating `ObjectLiteralExpression`s"
   ]
  },
  {
   "cell_type": "code",
   "execution_count": 15,
   "metadata": {
    "dotnet_interactive": {
     "language": "csharp"
    }
   },
   "outputs": [
    {
     "name": "stdout",
     "output_type": "stream",
     "text": [
      "let tmp = {\n",
      "    Application: \"wcf\"\n",
      "};\n",
      "\n"
     ]
    }
   ],
   "source": [
    "import { printNode, Project, StructureKind, SyntaxKind, ts, VariableDeclarationKind } from \"ts-morph\";\r\n",
    "import { TempFileSystem } from \"@manuth/temp-files\";\r\n",
    "\r\n",
    "let varname = \"tmp\";\r\n",
    "let file = new Project().createSourceFile(TempFileSystem.TempName());\r\n",
    "\r\n",
    "file.addVariableStatement(\r\n",
    "    {\r\n",
    "        declarationKind: VariableDeclarationKind.Let,\r\n",
    "        declarations: [\r\n",
    "            {\r\n",
    "                name: varname,\r\n",
    "                initializer: printNode(ts.factory.createObjectLiteralExpression())\r\n",
    "            }\r\n",
    "        ]\r\n",
    "    });\r\n",
    "\r\n",
    "let options = file.getVariableDeclaration(varname).getInitializerIfKindOrThrow(SyntaxKind.ObjectLiteralExpression);\r\n",
    "\r\n",
    "options.addPropertyAssignment(\r\n",
    "    {\r\n",
    "        name: \"Application\",\r\n",
    "        initializer: JSON.stringify(\"wcf\")\r\n",
    "    });\r\n",
    "\r\n",
    "console.log(file.getFullText());"
   ]
  },
  {
   "cell_type": "markdown",
   "metadata": {},
   "source": [
    "## Creating `CallExpression`s"
   ]
  },
  {
   "cell_type": "code",
   "execution_count": 16,
   "metadata": {},
   "outputs": [
    {
     "name": "stdout",
     "output_type": "stream",
     "text": [
      "join(\"..\", \"..\")\n"
     ]
    }
   ],
   "source": [
    "import { printNode, Project, StructureKind, SyntaxKind, ts, VariableDeclarationKind } from \"ts-morph\";\r\n",
    "import { TempFileSystem } from \"@manuth/temp-files\";\r\n",
    "\r\n",
    "let varname = \"tmp\";\r\n",
    "let file = new Project().createSourceFile(TempFileSystem.TempName());\r\n",
    "file.replaceWithText(printNode(ts.factory.createCallExpression(ts.factory.createIdentifier(\"join\"), [], [])));\r\n",
    "let call = file.getStatementByKindOrThrow(SyntaxKind.ExpressionStatement).getExpressionIfKindOrThrow(SyntaxKind.CallExpression);\r\n",
    "call.addArgument(printNode(ts.factory.createStringLiteral(\"..\")));\r\n",
    "call.addArgument(printNode(ts.factory.createStringLiteral(\"..\")));\r\n",
    "console.log(file.getFullText());"
   ]
  }
 ],
 "metadata": {
  "kernelspec": {
   "display_name": "TypeScript",
   "language": "typescript",
   "name": "tslab"
  },
  "language_info": {
   "codemirror_mode": {
    "mode": "typescript",
    "name": "javascript",
    "typescript": true
   },
   "file_extension": ".ts",
   "mimetype": "text/typescript",
   "name": "typescript",
   "version": "3.7.2"
  },
  "orig_nbformat": 4
 },
 "nbformat": 4,
 "nbformat_minor": 2
}